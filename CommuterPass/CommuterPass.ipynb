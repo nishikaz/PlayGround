{
 "cells": [
  {
   "cell_type": "markdown",
   "metadata": {},
   "source": [
    "# 定期券買ったほうがいいのかな？\n",
    "在宅勤務が多かったうちは回数券で安く済ませてたけど、最近出勤する用事が増えてしまって交通費の出費が厳しくなってきた。<br>\n",
    "ので、向こう半年のうち何日出勤するようならば定期券を買うべきなのか損益分岐点を求めてみる。<br>\n",
    "わざわざNotebookにしたのはGitHubにプッシュするネタが欲しかったからです。"
   ]
  },
  {
   "cell_type": "markdown",
   "metadata": {},
   "source": [
    "### 参考にした記事・サイト\n",
    "- https://holidays-jp.github.io/\n",
    "- https://qiita.com/dkugi/items/8c32cc481b365c277ec2\n",
    "- https://qiita.com/calderarie/items/0ef921b476911a55148d\n",
    "- https://www.techscore.com/blog/2019/12/16/better-way-handling-json-data-in-python/\n",
    "- https://techacademy.jp/magazine/15826"
   ]
  },
  {
   "cell_type": "code",
   "execution_count": 1,
   "metadata": {},
   "outputs": [],
   "source": [
    "import json, datetime, requests, pickle\n",
    "from datetime import timedelta\n",
    "from dateutil.relativedelta import relativedelta\n",
    "\n",
    "from_ = datetime.date.today()\n",
    "until_ = from_ + relativedelta(months=6)\n",
    "\n",
    "# 消化予定の有給\n",
    "paid_holiday = 8\n",
    "\n",
    "# 回数券 vs 定期券\n",
    "one_way_ticket = 280\n",
    "one_way_suica = 272\n",
    "coupon_ticket = 2800 / 11\n",
    "six_month_commuter_pass = 53950"
   ]
  },
  {
   "cell_type": "code",
   "execution_count": 2,
   "metadata": {},
   "outputs": [],
   "source": [
    "def dateRange(from_: datetime, until_:datetime):\n",
    "    diff = (until_ - from_).days + 1\n",
    "    return (from_ + timedelta(i) for i in range(diff))"
   ]
  },
  {
   "cell_type": "code",
   "execution_count": 3,
   "metadata": {},
   "outputs": [],
   "source": [
    "def isHoliday(date: datetime):\n",
    "    date = str(date)\n",
    "    \n",
    "    try:\n",
    "        with open('holidays.pkl', 'rb') as f:\n",
    "            holidays = pickle.load(f)       \n",
    "    except EOFError:\n",
    "        url = 'https://holidays-jp.github.io/api/v1/date.json'\n",
    "        response = requests.get(url)\n",
    "        holidays = response.json()\n",
    "        with open('holidays.pkl', 'wb') as f:\n",
    "            pickle.dump(holidays, f)\n",
    "   \n",
    "    return True if holidays.get(date) != None else False"
   ]
  },
  {
   "cell_type": "code",
   "execution_count": 4,
   "metadata": {},
   "outputs": [],
   "source": [
    "def getWorkdays(from_: datetime, until_:datetime):\n",
    "    return sum([not isHoliday(date) for date in dateRange(from_, until_) if date.weekday() < 5])"
   ]
  },
  {
   "cell_type": "code",
   "execution_count": 5,
   "metadata": {},
   "outputs": [],
   "source": [
    "def getCost(workdays, cost):\n",
    "    return workdays * cost"
   ]
  },
  {
   "cell_type": "code",
   "execution_count": 6,
   "metadata": {},
   "outputs": [],
   "source": [
    "def main():\n",
    "    workdays = getWorkdays(from_, until_) - paid_holiday\n",
    "    n_weeks = ((until_ - from_) / 7).days\n",
    "    \n",
    "    for wfh_freq in [0, 0.5, 1, 2, 3]: # per week\n",
    "        wfo_days = workdays - int(n_weeks * wfh_freq)\n",
    "        print('◆週{:}日在宅勤務を行う場合（出勤日数：{:}日）'.format(wfh_freq, workdays))\n",
    "        print('\\t切符\\t：{:,.1f}円 ({:,.1f}円)'.format(wfo_days*one_way_ticket*2, six_month_commuter_pass-wfo_days*one_way_ticket*2))\n",
    "        print('\\tSuica\\t：{:,.1f}円 ({:,.1f}円)'.format(wfo_days*one_way_suica*2, six_month_commuter_pass-wfo_days*one_way_suica*2))\n",
    "        print('\\t回数券\\t：{:,.1f}円 ({:,.1f}円)'.format(wfo_days*coupon_ticket*2, six_month_commuter_pass-wfo_days*coupon_ticket*2))\n",
    "        print('\\t定期券\\t：{:,}円'.format(six_month_commuter_pass))\n",
    "        print('\\t')"
   ]
  },
  {
   "cell_type": "code",
   "execution_count": 7,
   "metadata": {},
   "outputs": [
    {
     "name": "stdout",
     "output_type": "stream",
     "text": [
      "◆週0日在宅勤務を行う場合（出勤日数：117日）\n",
      "\t切符\t：65,520.0円 (-11,570.0円)\n",
      "\tSuica\t：63,648.0円 (-9,698.0円)\n",
      "\t回数券\t：59,563.6円 (-5,613.6円)\n",
      "\t定期券\t：53,950円\n",
      "\t\n",
      "◆週0.5日在宅勤務を行う場合（出勤日数：117日）\n",
      "\t切符\t：58,240.0円 (-4,290.0円)\n",
      "\tSuica\t：56,576.0円 (-2,626.0円)\n",
      "\t回数券\t：52,945.5円 (1,004.5円)\n",
      "\t定期券\t：53,950円\n",
      "\t\n",
      "◆週1日在宅勤務を行う場合（出勤日数：117日）\n",
      "\t切符\t：50,960.0円 (2,990.0円)\n",
      "\tSuica\t：49,504.0円 (4,446.0円)\n",
      "\t回数券\t：46,327.3円 (7,622.7円)\n",
      "\t定期券\t：53,950円\n",
      "\t\n",
      "◆週2日在宅勤務を行う場合（出勤日数：117日）\n",
      "\t切符\t：36,400.0円 (17,550.0円)\n",
      "\tSuica\t：35,360.0円 (18,590.0円)\n",
      "\t回数券\t：33,090.9円 (20,859.1円)\n",
      "\t定期券\t：53,950円\n",
      "\t\n",
      "◆週3日在宅勤務を行う場合（出勤日数：117日）\n",
      "\t切符\t：21,840.0円 (32,110.0円)\n",
      "\tSuica\t：21,216.0円 (32,734.0円)\n",
      "\t回数券\t：19,854.5円 (34,095.5円)\n",
      "\t定期券\t：53,950円\n",
      "\t\n"
     ]
    }
   ],
   "source": [
    "main()"
   ]
  },
  {
   "cell_type": "markdown",
   "metadata": {},
   "source": [
    "# 結論\n",
    "<s>私の場合、だいたい週2.5日が分岐点で、月の半分以上在宅勤務すれば定期券を買わなくとも元が取れそうでした。<br>\n",
    "そして今のペースだと赤字になることが判明したので今度定期買うことにしました。</s>\n",
    "\n",
    "週末を考慮したら途端に定期券の優位性が消失しました。週1日ペースで在宅勤務をすれば定額切符ですら元が取れそうです。<br>\n",
    "ここにさらに大晦日の会社指定休日も加味すると出勤日数は減るはずなので、どうやら定期券はもはや必要なさそうです。回数券 is all you need.<br>\n",
    "一つ要望を出すとすれば、ぜひ都営交通並びにPasmoにはモバイル回数券を導入していただきたいです。"
   ]
  },
  {
   "cell_type": "code",
   "execution_count": null,
   "metadata": {},
   "outputs": [],
   "source": []
  }
 ],
 "metadata": {
  "kernelspec": {
   "display_name": "Python 3",
   "language": "python",
   "name": "python3"
  },
  "language_info": {
   "codemirror_mode": {
    "name": "ipython",
    "version": 3
   },
   "file_extension": ".py",
   "mimetype": "text/x-python",
   "name": "python",
   "nbconvert_exporter": "python",
   "pygments_lexer": "ipython3",
   "version": "3.8.3"
  }
 },
 "nbformat": 4,
 "nbformat_minor": 2
}
