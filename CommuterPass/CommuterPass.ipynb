{
 "cells": [
  {
   "cell_type": "markdown",
   "metadata": {},
   "source": [
    "# 定期券買ったほうがいいのかな？\n",
    "在宅勤務が多かったうちは回数券で安く済ませてたけど、最近出勤する用事が増えてしまって交通費の出費が厳しくなってきた。<br>\n",
    "ので、向こう半年のうち何日出勤するようならば定期券を買うべきなのか損益分岐点を求めてみる。<br>\n",
    "わざわざNotebookにしたのはGitHubにプッシュするネタが欲しかったからです。"
   ]
  },
  {
   "cell_type": "markdown",
   "metadata": {},
   "source": [
    "### 参考にした記事・サイト\n",
    "- https://holidays-jp.github.io/\n",
    "- https://qiita.com/dkugi/items/8c32cc481b365c277ec2\n",
    "- https://qiita.com/calderarie/items/0ef921b476911a55148d\n",
    "- https://www.techscore.com/blog/2019/12/16/better-way-handling-json-data-in-python/\n",
    "- https://techacademy.jp/magazine/15826"
   ]
  },
  {
   "cell_type": "code",
   "execution_count": 1,
   "metadata": {},
   "outputs": [],
   "source": [
    "import json, datetime, requests, pickle\n",
    "from datetime import timedelta\n",
    "from dateutil.relativedelta import relativedelta\n",
    "\n",
    "%matplotlib inline\n",
    "from matplotlib import pyplot\n",
    "\n",
    "from_ = datetime.date.today()\n",
    "until_ = from_ + relativedelta(months=6)\n",
    "\n",
    "# 消化予定の有給\n",
    "paid_holiday = 8\n",
    "\n",
    "# 回数券 vs 定期券\n",
    "coupon_tickets = 2800 / 11 * 2\n",
    "six_month_commuter_pass = 53950"
   ]
  },
  {
   "cell_type": "code",
   "execution_count": 2,
   "metadata": {},
   "outputs": [],
   "source": [
    "def dateRange(from_: datetime, until_:datetime):\n",
    "    diff = (until_ - from_).days + 1\n",
    "    return (from_ + timedelta(i) for i in range(diff))"
   ]
  },
  {
   "cell_type": "code",
   "execution_count": 3,
   "metadata": {},
   "outputs": [],
   "source": [
    "def isHoliday(date: datetime):\n",
    "    date = str(date)\n",
    "    \n",
    "    try:\n",
    "        with open('holidays.pkl', 'rb') as f:\n",
    "            holidays = pickle.load(f)       \n",
    "    except EOFError:\n",
    "        url = 'https://holidays-jp.github.io/api/v1/date.json'\n",
    "        response = requests.get(url)\n",
    "        holidays = response.json()\n",
    "        with open('holidays.pkl', 'wb') as f:\n",
    "            pickle.dump(holidays, f)\n",
    "   \n",
    "    return True if holidays.get(date) != None else False"
   ]
  },
  {
   "cell_type": "code",
   "execution_count": 4,
   "metadata": {},
   "outputs": [],
   "source": [
    "def getWorkdays(from_: datetime, until_:datetime):\n",
    "    return sum([not isHoliday(date) for date in dateRange(from_, until_)])"
   ]
  },
  {
   "cell_type": "code",
   "execution_count": 5,
   "metadata": {},
   "outputs": [],
   "source": [
    "def getCost(workdays, cost):\n",
    "    return workdays * cost"
   ]
  },
  {
   "cell_type": "code",
   "execution_count": 6,
   "metadata": {},
   "outputs": [],
   "source": [
    "def main():\n",
    "    workdays = getWorkdays(from_, until_) - paid_holiday\n",
    "    n_weeks = ((until_ - from_) / 7).days\n",
    "    \n",
    "    for wfh_freq in [0.5, 1, 1.5, 2, 2.5, 3]: # per week\n",
    "        wfo_days = workdays - int(n_weeks * wfh_freq)\n",
    "        print('◆週{:}日在宅勤務を行う場合：'.format(wfh_freq))\n",
    "        print('\\t回数券：{:.1f}円'.format(wfo_days * coupon_tickets))\n",
    "        print('\\t定期券：{:}円'.format(six_month_commuter_pass))\n",
    "        print('\\t')"
   ]
  },
  {
   "cell_type": "code",
   "execution_count": 7,
   "metadata": {},
   "outputs": [
    {
     "name": "stdout",
     "output_type": "stream",
     "text": [
      "◆週0.5日在宅勤務を行う場合：\n",
      "\t回数券：78909.1円\n",
      "\t定期券：53950円\n",
      "\t\n",
      "◆週1日在宅勤務を行う場合：\n",
      "\t回数券：72290.9円\n",
      "\t定期券：53950円\n",
      "\t\n",
      "◆週1.5日在宅勤務を行う場合：\n",
      "\t回数券：65672.7円\n",
      "\t定期券：53950円\n",
      "\t\n",
      "◆週2日在宅勤務を行う場合：\n",
      "\t回数券：59054.5円\n",
      "\t定期券：53950円\n",
      "\t\n",
      "◆週2.5日在宅勤務を行う場合：\n",
      "\t回数券：52436.4円\n",
      "\t定期券：53950円\n",
      "\t\n",
      "◆週3日在宅勤務を行う場合：\n",
      "\t回数券：45818.2円\n",
      "\t定期券：53950円\n",
      "\t\n"
     ]
    }
   ],
   "source": [
    "main()"
   ]
  },
  {
   "cell_type": "markdown",
   "metadata": {},
   "source": [
    "# 結論\n",
    "私の場合、だいたい週2.5日が分岐点で、月の半分以上在宅勤務すれば定期券を買わなくとも元が取れそうでした。<br>\n",
    "そして今のペースだと赤字になることが判明したので今度定期買うことにしました。"
   ]
  },
  {
   "cell_type": "code",
   "execution_count": null,
   "metadata": {},
   "outputs": [],
   "source": []
  }
 ],
 "metadata": {
  "kernelspec": {
   "display_name": "Python 3",
   "language": "python",
   "name": "python3"
  },
  "language_info": {
   "codemirror_mode": {
    "name": "ipython",
    "version": 3
   },
   "file_extension": ".py",
   "mimetype": "text/x-python",
   "name": "python",
   "nbconvert_exporter": "python",
   "pygments_lexer": "ipython3",
   "version": "3.6.6"
  }
 },
 "nbformat": 4,
 "nbformat_minor": 2
}
