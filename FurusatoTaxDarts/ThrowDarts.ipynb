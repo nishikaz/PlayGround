{
 "cells": [
  {
   "cell_type": "markdown",
   "metadata": {},
   "source": [
    "# 日本全国ダーツのふるさと納税\n",
    "2020年も暮が近づいているので、2万円くらいふるさと納税したいんだけどどこの返礼品がいいか決めかねています。<br>\n",
    "ので、Pythonの乱数に決めていただきます。<br>\n",
    "わざわざNotebookにしたのはGitHubにプッシュするネタが欲しかったからです。"
   ]
  },
  {
   "cell_type": "markdown",
   "metadata": {},
   "source": [
    "### 参考にした記事・サイト\n",
    "- https://qiita.com/next1ka2u/items/1d7e63c37d9a205219b6\n",
    "- https://qiita.com/shirakiya/items/b1581b29869434d2a8ae\n",
    "- https://furusato.ana.co.jp/"
   ]
  },
  {
   "cell_type": "code",
   "execution_count": 2,
   "metadata": {},
   "outputs": [],
   "source": [
    "import json, numpy as np\n",
    "\n",
    "totalThrowTime = 0\n",
    "\n",
    "def throwDarts():\n",
    "    dictPref =  json.load(open('pref_city.json', 'r', encoding='utf-8'))\n",
    "    prefNum = '{0:02d}'.format(np.random.randint(1, 48, 1)[0])\n",
    "    \n",
    "    pref = dictPref[prefNum]['name']\n",
    "    n_city = len(dictPref[prefNum]['city'])\n",
    "    city = dictPref[prefNum]['city'][np.random.randint(0, n_city+1, 1)[0]]['city']\n",
    "    \n",
    "    return pref, city"
   ]
  },
  {
   "cell_type": "markdown",
   "metadata": {},
   "source": [
    "## 1投目いくぞ！\n",
    "私はマイルがほしいので、今回ふるさと納税には [ANAのふるさと納税](https://furusato.ana.co.jp/) を利用します。<br>\n",
    "上記の市町村がANAのふるさと納税では納税先として扱っていない市区町村の場合、もう一度ダーツを投げます。"
   ]
  },
  {
   "cell_type": "code",
   "execution_count": 2,
   "metadata": {
    "scrolled": true
   },
   "outputs": [
    {
     "name": "stdout",
     "output_type": "stream",
     "text": [
      "納税先の候補は沖縄県国頭郡になりました\n"
     ]
    }
   ],
   "source": [
    "pref, city = throwDarts()\n",
    "print('納税先の候補は{:}{:}になりました'.format(pref, city))"
   ]
  },
  {
   "cell_type": "markdown",
   "metadata": {},
   "source": [
    "沖縄県国頭郡ですが、なんとANAのふるさと納税では取り扱いのある市町村でした！<br>\n",
    "まさかのダーツ初手投了・・・！？！？"
   ]
  },
  {
   "cell_type": "markdown",
   "metadata": {},
   "source": [
    "<img src=\"img/kunigami.png\" width=\"600\">\n",
    "…たしかに沖縄県国頭郡（国頭村：くにがみそん）は取り扱い市町村でしたが、上この[オクマ プライベートビーチ&リゾート・アクティビティ利用券付き【2泊 夕朝食付きペア宿泊券】](https://furusato.ana.co.jp/47301/products/detail.php?product_code=hen3)のみを返礼品と扱っており、仮に私が100万円を納税したとしても90万円以上が控除対象外となってしまうので、ふるさと納税の目的（節税）から大きく逸脱してしまいます。というか予算2万円なので。<br>\n",
    "せっかくダーツの当たった国頭郡には申し訳ないですが、もう一度納税先を決めるためにダーツを投げます。億万長者になった暁にはプライベートビーチで豪遊しますね。"
   ]
  },
  {
   "cell_type": "markdown",
   "metadata": {},
   "source": [
    "## 2投目\n",
    "では気を取り直して２投目行ってみよう！"
   ]
  },
  {
   "cell_type": "code",
   "execution_count": 3,
   "metadata": {},
   "outputs": [
    {
     "name": "stdout",
     "output_type": "stream",
     "text": [
      "納税先の候補は栃木県真岡市になりました\n"
     ]
    }
   ],
   "source": [
    "pref, city = throwDarts()\n",
    "print('納税先の候補は{:}{:}になりました'.format(pref, city))"
   ]
  },
  {
   "cell_type": "markdown",
   "metadata": {},
   "source": [
    "<img src=\"img/mooka.png\" width=\"600\">\n",
    "…残念ながらANAのふるさと納税では栃木県真岡市（もおかし）は納税先対象ではありませんでした。<br>\n",
    "というかそもそも栃木県がごっそりない<strong>件</strong>について、県だけに。"
   ]
  },
  {
   "cell_type": "markdown",
   "metadata": {},
   "source": [
    "## 3投目\n",
    "そろそろJupyter notebbokのセル追加するのめんどくさいので当たって欲しいところ…！"
   ]
  },
  {
   "cell_type": "code",
   "execution_count": 4,
   "metadata": {},
   "outputs": [
    {
     "name": "stdout",
     "output_type": "stream",
     "text": [
      "納税先の候補は茨城県水戸市になりました\n"
     ]
    }
   ],
   "source": [
    "pref, city = throwDarts()\n",
    "print('納税先の候補は{:}{:}になりました'.format(pref, city))"
   ]
  },
  {
   "cell_type": "markdown",
   "metadata": {},
   "source": [
    "<img src=\"img/mito.png\" width=\"600\">\n",
    "茨城県水戸市は対象外市区町村です。返礼品で納豆でも選ぼうかと一瞬頭がよぎりましたがかなわず"
   ]
  },
  {
   "cell_type": "markdown",
   "metadata": {},
   "source": [
    "## 4投目\n",
    "Markdown書きなれないのと、普段使っているPCとは違うマシンでNotebook使っているので、IMEの予測変換がポンコツ過ぎてストレスがすごい。<br>\n",
    "そろそろ当たって…頼む…"
   ]
  },
  {
   "cell_type": "code",
   "execution_count": 5,
   "metadata": {},
   "outputs": [
    {
     "name": "stdout",
     "output_type": "stream",
     "text": [
      "納税先の候補は熊本県天草市になりました\n"
     ]
    }
   ],
   "source": [
    "pref, city = throwDarts()\n",
    "print('納税先の候補は{:}{:}になりました'.format(pref, city))"
   ]
  },
  {
   "cell_type": "markdown",
   "metadata": {},
   "source": [
    "<img src=\"img/amakusa.png\" width=\"300\">\n",
    "ｷﾀ━━━━(ﾟ∀ﾟ)━━━━!!<br>\n",
    "天草市は行ったことないのですが、熊本県には2回ほど行ったことがあるので個人的には思い入れのある地方に当たって嬉しいです。"
   ]
  },
  {
   "cell_type": "markdown",
   "metadata": {},
   "source": [
    "<img src=\"img/gibier.png\" width=\"600\">\n",
    "色々悩みましたが、やはり食べ物がいいのでこれにしました。<br>\n",
    "[富山の地ビール](https://twitter.com/nishi_kaz/status/1320258153271889921)と一緒に早く優勝したいです。"
   ]
  },
  {
   "cell_type": "markdown",
   "metadata": {},
   "source": [
    "# 結論\n",
    "ふるさと納税はいいぞ。もっと早くやればよかった。<br>\n",
    "あとANAさんプレゼントキャンペーンの[BRIEFING for ANAスーツケース](https://furusato.ana.co.jp/cpn/02/2020/10/index.html)ください！"
   ]
  },
  {
   "cell_type": "code",
   "execution_count": null,
   "metadata": {},
   "outputs": [],
   "source": []
  }
 ],
 "metadata": {
  "kernelspec": {
   "display_name": "Python 3",
   "language": "python",
   "name": "python3"
  },
  "language_info": {
   "codemirror_mode": {
    "name": "ipython",
    "version": 3
   },
   "file_extension": ".py",
   "mimetype": "text/x-python",
   "name": "python",
   "nbconvert_exporter": "python",
   "pygments_lexer": "ipython3",
   "version": "3.6.9"
  }
 },
 "nbformat": 4,
 "nbformat_minor": 4
}
